{
 "cells": [
  {
   "cell_type": "markdown",
   "metadata": {},
   "source": [
    "### <h3 style=\"color: #ADD8E6;\">Complementaria 2: Álgebra Lineal en Python</h3>"
   ]
  },
  {
   "cell_type": "markdown",
   "metadata": {},
   "source": [
    "El objetivo de esta complementaria es aprender a definir y manejar matrices en Python. El uso de matrices aplicado a la construcción de Cadenas de Markov también será tratado a lo largo de la complementaria."
   ]
  },
  {
   "cell_type": "markdown",
   "metadata": {},
   "source": [
    "<h3 style=\"color: #ADD8E6;\">Manejo de matrices\n",
    "</h3>"
   ]
  },
  {
   "cell_type": "markdown",
   "metadata": {},
   "source": [
    "Para crear y realizar operaciones sobre matrices en Python utilzaremos la libreria `numpy` que se abrevia como `np`."
   ]
  },
  {
   "cell_type": "code",
   "execution_count": 1,
   "metadata": {},
   "outputs": [],
   "source": [
    "import numpy as np"
   ]
  },
  {
   "cell_type": "markdown",
   "metadata": {},
   "source": [
    "Existen diferentes formas para crear matrices en Python. Aqui hay algunos ejemplos: "
   ]
  },
  {
   "cell_type": "markdown",
   "metadata": {},
   "source": [
    "1. Se puede crear una matriz a partir de varias listas:"
   ]
  },
  {
   "cell_type": "code",
   "execution_count": 2,
   "metadata": {},
   "outputs": [
    {
     "name": "stdout",
     "output_type": "stream",
     "text": [
      "[[1 2 3]\n",
      " [4 5 6]\n",
      " [7 8 9]]\n"
     ]
    }
   ],
   "source": [
    "matrix = np.array([[1, 2, 3], [4, 5, 6], [7, 8, 9]])\n",
    "print(matrix)\n"
   ]
  },
  {
   "cell_type": "markdown",
   "metadata": {},
   "source": [
    "2. Se puede crear una matriz llena de ceros (esta forma de crear la matriz será de suma utilidad cuando estemos definiendo las cadenas de Markov):"
   ]
  },
  {
   "cell_type": "code",
   "execution_count": 3,
   "metadata": {},
   "outputs": [
    {
     "name": "stdout",
     "output_type": "stream",
     "text": [
      "[[0. 0. 0.]\n",
      " [0. 0. 0.]\n",
      " [0. 0. 0.]]\n"
     ]
    }
   ],
   "source": [
    "matrix2 = np.zeros((3, 3))  # Matriz 3x3 de ceros\n",
    "print(matrix2)"
   ]
  },
  {
   "cell_type": "markdown",
   "metadata": {},
   "source": [
    "3. Crear una matriz identidad (útil para realizar análisis de tiempos)"
   ]
  },
  {
   "cell_type": "code",
   "execution_count": 4,
   "metadata": {},
   "outputs": [
    {
     "name": "stdout",
     "output_type": "stream",
     "text": [
      "[[1. 0. 0. 0.]\n",
      " [0. 1. 0. 0.]\n",
      " [0. 0. 1. 0.]\n",
      " [0. 0. 0. 1.]]\n"
     ]
    }
   ],
   "source": [
    "matrix3 = np.eye(4)  # Matriz identidad 4x4\n",
    "print(matrix3)"
   ]
  },
  {
   "cell_type": "markdown",
   "metadata": {},
   "source": [
    "Para acceder a un elemento de una matriz se deben utilizar los índices del respectivo elemento. Se debe tener cuidado ya que los índices en Python empiezan en 0, tal que si, por ejemplo, se quiere acceder a la fila `1` se debe utilizar el `0`. "
   ]
  },
  {
   "cell_type": "code",
   "execution_count": 5,
   "metadata": {},
   "outputs": [
    {
     "data": {
      "text/plain": [
       "2"
      ]
     },
     "execution_count": 5,
     "metadata": {},
     "output_type": "execute_result"
    }
   ],
   "source": [
    "# Accede al elemento en la fila 1, columna 2\n",
    "elemento = matrix[0, 1]\n",
    "elemento"
   ]
  },
  {
   "cell_type": "markdown",
   "metadata": {},
   "source": [
    "También se puede extraer filas o columnas de la siguiente manera:"
   ]
  },
  {
   "cell_type": "code",
   "execution_count": 6,
   "metadata": {},
   "outputs": [
    {
     "data": {
      "text/plain": [
       "array([1, 2, 3])"
      ]
     },
     "execution_count": 6,
     "metadata": {},
     "output_type": "execute_result"
    }
   ],
   "source": [
    "# Extraer la primera fila de 'matrix'.\n",
    "fila1 = matrix[0,:]\n",
    "fila1"
   ]
  },
  {
   "cell_type": "code",
   "execution_count": 7,
   "metadata": {},
   "outputs": [
    {
     "data": {
      "text/plain": [
       "array([3, 6, 9])"
      ]
     },
     "execution_count": 7,
     "metadata": {},
     "output_type": "execute_result"
    }
   ],
   "source": [
    "# Extraer la tercera columna de 'matrix'.\n",
    "columna2 = matrix[:,2]\n",
    "columna2"
   ]
  },
  {
   "cell_type": "markdown",
   "metadata": {},
   "source": [
    "De igual manera se pueden agregar filas o columnas con la función `append`. Si se quiere aregar una nueva fila el parámetro `axis` de la funcion `append` debe ser igual a `0`; si se quiere agregar una nueva columna, `axis` debe ser igual a `1`."
   ]
  },
  {
   "cell_type": "code",
   "execution_count": 8,
   "metadata": {},
   "outputs": [
    {
     "data": {
      "text/plain": [
       "array([[ 1,  2,  3],\n",
       "       [ 4,  5,  6],\n",
       "       [ 7,  8,  9],\n",
       "       [10, 11, 12]])"
      ]
     },
     "execution_count": 8,
     "metadata": {},
     "output_type": "execute_result"
    }
   ],
   "source": [
    "# Nueva fila que se quiere agregar.\n",
    "nueva_fila = np.array([10,11,12])\n",
    "\n",
    "# Agregar la nueva fila a la matriz\n",
    "matrix_con_fila = np.append(matrix, [nueva_fila], axis = 0)\n",
    "matrix_con_fila"
   ]
  },
  {
   "cell_type": "code",
   "execution_count": 9,
   "metadata": {},
   "outputs": [
    {
     "data": {
      "text/plain": [
       "array([[ 1,  2,  3, 13],\n",
       "       [ 4,  5,  6, 14],\n",
       "       [ 7,  8,  9, 15]])"
      ]
     },
     "execution_count": 9,
     "metadata": {},
     "output_type": "execute_result"
    }
   ],
   "source": [
    "# Nueva columna que se quiere agregar.\n",
    "nueva_columna = np.array([[13], [14], [15]])\n",
    "\n",
    "# Agregar la nueva columna a la matriz\n",
    "matrix_con_columna = np.append(matrix, nueva_columna, axis = 1)\n",
    "matrix_con_columna"
   ]
  },
  {
   "cell_type": "markdown",
   "metadata": {},
   "source": [
    "<h3 style=\"color: #ADD8E6;\">Operaciones matriciales\n",
    "</h3>"
   ]
  },
  {
   "cell_type": "markdown",
   "metadata": {},
   "source": [
    "A modo de ejemplo, se crearán dos matrices llenas de números aleatorios que siguen una distribución normal generados por el comando `random.normal` de la libreria numpy, que tiene como parámetros la media, la desviación estandar y el tamaño de la matriz "
   ]
  },
  {
   "cell_type": "code",
   "execution_count": 10,
   "metadata": {},
   "outputs": [
    {
     "name": "stdout",
     "output_type": "stream",
     "text": [
      "[[25.81265713 24.85613895 28.70628961 19.44588963 20.90783179 14.08777945]\n",
      " [23.84263572 22.67036504 15.93272035 29.44478882 20.00088753 22.09278642]\n",
      " [22.86086204 18.93739172 21.26575341 20.47844934 17.11513131  9.53528466]\n",
      " [19.62412285 12.45229694  3.2575555  16.41431898 12.37062484 22.78315285]\n",
      " [ 9.28321329 22.62591235 21.88950667 24.25665514 19.11453088 21.83657415]\n",
      " [22.2610462   8.71932848 18.78780849 21.84789129 33.43497213 21.35365735]]\n"
     ]
    }
   ],
   "source": [
    "A = np.random.normal(loc = 20, scale = 8, size = (6,6))\n",
    "print(A)"
   ]
  },
  {
   "cell_type": "code",
   "execution_count": 11,
   "metadata": {},
   "outputs": [
    {
     "name": "stdout",
     "output_type": "stream",
     "text": [
      "[[ 6.89920104  5.90193982  9.07522923 11.50778604 13.35897988  7.78702411]\n",
      " [ 9.20474693  4.49378974  9.46107463  8.99757115 10.09333782  5.56664408]\n",
      " [ 8.68566551  5.31513192 13.09481156  9.51212595 10.82691885 10.97862958]\n",
      " [11.6094933   9.09613595 11.04861413 15.12728433  7.83658696  4.94660296]\n",
      " [11.46153686 15.26870219 14.60802194 11.54520683 11.45896756  6.94930574]\n",
      " [ 5.35432243  8.96600976 14.94826888 10.81870454 10.7268584   8.42466913]]\n"
     ]
    }
   ],
   "source": [
    "B = np.random.normal(loc = 10, scale = 3, size = (6,6))\n",
    "print(B)"
   ]
  },
  {
   "cell_type": "markdown",
   "metadata": {},
   "source": [
    "A continuación, se encuentran algunos comandos de interes que nos permiten realizar operaciones matriciales en Python"
   ]
  },
  {
   "cell_type": "markdown",
   "metadata": {},
   "source": [
    "| Comando | Explicación |\n",
    "|:---:|:---:|\n",
    "| `A.T` | Transpuesta de la matriz A |\n",
    "| `A + B` | Suma elemento a elemento de las matrices A y B |\n",
    "| `A - B` | Resta elemento a elemento de las matrices A y B |\n",
    "| `A @ B` | Producto matricial de A por B |\n",
    "| `A * B` | Producto elemento a elemento de A por B |\n",
    "| `np.linalg.det(A)` | Calcula el determinante de la matriz cuadrada A |\n",
    "| `np.linalg.inv(A)` | Calcula la inversa de la matriz cuadrada A |\n",
    "| `np.linalg.solve(A, b)` | Resuelve el sistema de ecuaciones lineales Ax = b |\n",
    "| `np.linalg.eig(A)` | Calcula los valores y vectores propios de la matriz cuadrada A |\n",
    "| `np.diag(A)` | Extrae la diagonal principal de la matriz A como un vector |\n",
    "| `A.sum(axis = 1)` | Calcula la suma de los elementos de cada fila de la matriz A |\n"
   ]
  },
  {
   "cell_type": "markdown",
   "metadata": {},
   "source": [
    "<h3 style=\"color: #ADD8E6;\">Cadenas de Markov</h3>"
   ]
  },
  {
   "cell_type": "markdown",
   "metadata": {},
   "source": [
    "El uso de matrices sirve para definir la representación de una cadena de Markov en Python. Por ejemplo, en las cadenas continuas es posible definir la matriz generadora (o de tasas de transición) **Q**, y en las discretas se define la matriz de probabilidades de transición a un paso **P**. En Python se utilizará la libreria `jmarkov`."
   ]
  },
  {
   "cell_type": "markdown",
   "metadata": {},
   "source": [
    ">**¡Ponte a prueba!**.\n",
    ">Modela la evolución del Índice de calidad del aire (ICA) como una cadena de Markov."
   ]
  },
  {
   "cell_type": "markdown",
   "metadata": {},
   "source": [
    "En primer lugar, se modela la situación como una cadena de Markov de tiempo discreto. Se define la variable de estado y el espacio de estados correspondiente."
   ]
  },
  {
   "cell_type": "markdown",
   "metadata": {},
   "source": [
    "$$\n",
    "I_n = \\text{Nivel del ICA en el n-ésimo día}\n",
    "$$\n",
    "\n",
    "$$\n",
    "S_I = \\{1, 2, 3, 4, 5\\}\n",
    "$$\n"
   ]
  },
  {
   "cell_type": "markdown",
   "metadata": {},
   "source": [
    "Es importante considerar que, en el espacio de estados, los niveles de calidad del aire aparecen en orden creciente de empeoramiento: el estado 1 corresponde a la clase Buena y el estado 5 a Muy dañina para la salud.\n",
    "\n",
    "Como es una cadena de Markov en tiempo discreto (CMTD) se debe definir la matriz P. Las probabilidades de transición en un paso entre estados de la cadena de Markov discreta son las siguientes:"
   ]
  },
  {
   "cell_type": "markdown",
   "metadata": {},
   "source": [
    "$$\n",
    "P_{i \\rightarrow j} = \\begin{cases}\n",
    "0.5 & \\text{si } j = i + 1, i < 5 \\\\\n",
    "0.3 & \\text{si } j = i, 1 < i < 5 \\\\\n",
    "0.2 & \\text{si } j = i - 1, i > 1 \\\\\n",
    "0.5 & \\text{si } j = i = 1 \\\\\n",
    "0.8 & \\text{si } j = i = 5 \\\\\n",
    "0 & \\text{dlc}\n",
    "\\end{cases}\n",
    "$$\n"
   ]
  },
  {
   "cell_type": "markdown",
   "metadata": {},
   "source": [
    "Para crear matrices en Python, utilizaremos la biblioteca `numpy`, que se emplea para trabajar con matrices y realizar cálculos numéricos de manera eficiente. Esta biblioteca se abrevia comúnmente como `np`."
   ]
  },
  {
   "cell_type": "code",
   "execution_count": 12,
   "metadata": {},
   "outputs": [],
   "source": [
    "# Importar las librerias necesarias.\n",
    "\n",
    "import numpy as np"
   ]
  },
  {
   "cell_type": "markdown",
   "metadata": {},
   "source": [
    "A continuación, se implementa esta CMTD en Python. Se empieza creando la matriz de probabilidades de transición que se llamará `matriz`:"
   ]
  },
  {
   "cell_type": "code",
   "execution_count": 13,
   "metadata": {},
   "outputs": [],
   "source": [
    "filas = 5\n",
    "columnas = 5\n",
    "\n",
    "# Crear una matriz de ceros de 5x5\n",
    "matriz = np.zeros((filas, columnas), dtype = float)"
   ]
  },
  {
   "cell_type": "markdown",
   "metadata": {},
   "source": [
    "Ahora, se recorren las filas y columnas de la matriz para llenarla de acuerdo a la formulación general definida previamente."
   ]
  },
  {
   "cell_type": "code",
   "execution_count": 14,
   "metadata": {},
   "outputs": [
    {
     "name": "stdout",
     "output_type": "stream",
     "text": [
      "[[0.5 0.5 0.  0.  0. ]\n",
      " [0.2 0.3 0.5 0.  0. ]\n",
      " [0.  0.2 0.3 0.5 0. ]\n",
      " [0.  0.  0.2 0.3 0.5]\n",
      " [0.  0.  0.  0.2 0.8]]\n"
     ]
    },
    {
     "data": {
      "text/plain": [
       "array([1., 1., 1., 1., 1.])"
      ]
     },
     "execution_count": 14,
     "metadata": {},
     "output_type": "execute_result"
    }
   ],
   "source": [
    "# Llenar la matriz con valores\n",
    "for i in range(filas):\n",
    "    for j in range(columnas):\n",
    "        if j == i + 1 and i < filas - 1:\n",
    "            matriz[i, j] = 0.5\n",
    "        elif j == i and i > 0 and i < filas - 1:\n",
    "            matriz[i, j] = 0.3\n",
    "        elif j == i - 1 and i > 0:\n",
    "            matriz[i, j] = 0.2\n",
    "        elif i == j == 0:\n",
    "            matriz[i, j] = 0.5\n",
    "        elif i == j == filas - 1:\n",
    "            matriz[i, j] = 0.8\n",
    "\n",
    "print(matriz)\n",
    "\n",
    "# Verificación de que las filas de la matriz suman 1.\n",
    "matriz.sum(axis = 1)\n"
   ]
  }
 ],
 "metadata": {
  "kernelspec": {
   "display_name": "Python 3",
   "language": "python",
   "name": "python3"
  },
  "language_info": {
   "codemirror_mode": {
    "name": "ipython",
    "version": 3
   },
   "file_extension": ".py",
   "mimetype": "text/x-python",
   "name": "python",
   "nbconvert_exporter": "python",
   "pygments_lexer": "ipython3",
   "version": "3.11.4"
  }
 },
 "nbformat": 4,
 "nbformat_minor": 2
}